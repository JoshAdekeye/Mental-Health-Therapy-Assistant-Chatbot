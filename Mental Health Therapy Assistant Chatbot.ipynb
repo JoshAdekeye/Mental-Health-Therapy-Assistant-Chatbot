{
 "cells": [
  {
   "cell_type": "markdown",
   "id": "3a5a1de8-d895-4659-ae53-45b5bf3e818a",
   "metadata": {},
   "source": [
    "# Project Title: Mental Health Therapy Assistant Chatbot\n",
    "\n",
    "**Author:** Joshua Adekeye\n",
    "\n",
    "**Date:** 2025-01-02  \n",
    "\n",
    "## Table of Contents\n",
    "1. [Introduction](#Introduction)\n",
    "2. [Data Collection](#Data-Collection)\n",
    "3. [Development of AI Models](#Development-of-AI-Models)\n",
    "4. [Building the Chatbot](#Building-the-Chatbots)\n",
    "5. [Conclusion](#Conclusion)\n",
    "\n",
    "## Introduction\n",
    "<a id='Introduction'></a>\n",
    "\n",
    "### Problem Statement\n",
    "In an era where mental health awareness is increasing, there is a need for accessible and immediate support systems. This project focuses on developing a chatbot that provides mental health support, offering coping mechanisms, mindfulness exercises, and emergency contacts, tailored to the user's emotional state and queries.\n",
    "\n",
    "### Business Understanding\n",
    "> Target Audience: Individuals seeking immediate mental health support, therapists, and mental health organizations.\n",
    "\n",
    "> Impact: The chatbot aims to offer first-line support, guide individuals to appropriate resources, and potentially reduce the stigma associated with seeking mental health care.\n",
    "\n",
    "> Market Trends: Growing integration of AI in mental health services and the rising demand for digital mental health solutions.\n",
    "\n",
    "### Objectives and Goals\n",
    "\n",
    "> Develop a chatbot that can understand and respond to mental health-related inquiries empathetically.\n",
    "\n",
    "> Utilize therapeutic conversation datasets and mental health FAQs for informed responses.\n",
    "\n",
    "> Implement sentiment analysis for mood assessment and provide tailored advice.\n",
    "\n",
    "> Deploy the chatbot as an accessible digital tool for immediate mental health support.\n",
    "\n",
    "## Data Collection\n",
    "<a id='Data-Collection-and-Preparation'></a>\n",
    "\n",
    "### Dataset Description\n",
    "\n",
    "> Mental Health Conversational Data\n",
    "\n",
    "This dataset can be used to train a model for a chatbot that can behave like a therapist in order to provide emotional support to people with anxiety & depression.\n",
    "\n",
    "The dataset contains intents. An “intent” is the intention behind a user's message. For instance, If I were to say “I am sad” to the chatbot, the intent, in this case, would be “sad”. Depending upon the intent, there is a set of Patterns and Responses appropriate for the intent. Patterns are some examples of a user’s message which aligns with the intent while Responses are the replies that the chatbot provides in accordance with the intent. Various intents are defined and their patterns and responses are used as the model’s training data to identify a particular intent\n",
    "\n",
    "> Mental Health FAQ\n",
    "\n",
    "This dataset consists of FAQs about Mental Health.\n",
    "\n",
    "### Development of AI Models\n",
    "<a id='Development-of-AI-Models'></a>\n",
    "\n",
    "> Implementing sentiment analysis to understand the user’s emotional state.\n",
    "\n",
    "> Using NLP for empathetic and contextually relevant responses.\n",
    "\n",
    "> Developing decision trees to guide the chatbot's advice pathways."
   ]
  },
  {
   "cell_type": "markdown",
   "id": "a720e393-5d6b-447d-b1d2-a28ad492094b",
   "metadata": {},
   "source": [
    "### Import Libraries"
   ]
  },
  {
   "cell_type": "code",
   "execution_count": 1,
   "id": "ebd2fe66-c614-4e71-88f4-a6e19847f834",
   "metadata": {},
   "outputs": [],
   "source": [
    "import json\n",
    "import pandas as pd\n",
    "import random"
   ]
  },
  {
   "cell_type": "markdown",
   "id": "b49ba585-a418-4946-8219-cc161e17cac6",
   "metadata": {
    "tags": []
   },
   "source": [
    "## Building the Chatbot\n",
    "<a id='Building-the-Chatbot'></a>\n",
    "\n",
    "Integrating AI models into the chatbot framework.\n",
    "\n",
    "Designing a user-friendly interface considering the sensitive nature of mental health discussions."
   ]
  },
  {
   "cell_type": "markdown",
   "id": "a90bb47d-1bad-475c-9210-d592399b1d3b",
   "metadata": {},
   "source": [
    "### Parsing the Intents File"
   ]
  },
  {
   "cell_type": "code",
   "execution_count": 2,
   "id": "bf4fe4a5-8803-4555-8fd2-bf803332fb84",
   "metadata": {
    "collapsed": true,
    "jupyter": {
     "outputs_hidden": true
    },
    "tags": []
   },
   "outputs": [
    {
     "data": {
      "text/plain": [
       "{'intents': [{'tag': 'greeting',\n",
       "   'patterns': ['Hi',\n",
       "    'Hey',\n",
       "    'Is anyone there?',\n",
       "    'Hi there',\n",
       "    'Hello',\n",
       "    'Hey there',\n",
       "    'Howdy',\n",
       "    'Hola',\n",
       "    'Bonjour',\n",
       "    'Konnichiwa',\n",
       "    'Guten tag',\n",
       "    'Ola'],\n",
       "   'responses': ['Hello there. Tell me how are you feeling today?',\n",
       "    'Hi there. What brings you here today?',\n",
       "    'Hi there. How are you feeling today?',\n",
       "    'Great to see you. How do you feel currently?',\n",
       "    \"Hello there. Glad to see you're back. What's going on in your world right now?\"]},\n",
       "  {'tag': 'morning',\n",
       "   'patterns': ['Good morning'],\n",
       "   'responses': [\"Good morning. I hope you had a good night's sleep. How are you feeling today? \"]},\n",
       "  {'tag': 'afternoon',\n",
       "   'patterns': ['Good afternoon'],\n",
       "   'responses': ['Good afternoon. How is your day going?']},\n",
       "  {'tag': 'evening',\n",
       "   'patterns': ['Good evening'],\n",
       "   'responses': ['Good evening. How has your day been?']},\n",
       "  {'tag': 'night',\n",
       "   'patterns': ['Good night'],\n",
       "   'responses': ['Good night. Get some proper sleep',\n",
       "    'Good night. Sweet dreams.']},\n",
       "  {'tag': 'goodbye',\n",
       "   'patterns': ['Bye',\n",
       "    'See you later',\n",
       "    'Goodbye',\n",
       "    'Au revoir',\n",
       "    'Sayonara',\n",
       "    'ok bye',\n",
       "    'Bye then',\n",
       "    'Fare thee well'],\n",
       "   'responses': ['See you later.',\n",
       "    'Have a nice day.',\n",
       "    'Bye! Come back again.',\n",
       "    \"I'll see you soon.\"]},\n",
       "  {'tag': 'thanks',\n",
       "   'patterns': ['Thanks',\n",
       "    'Thank you',\n",
       "    \"That's helpful\",\n",
       "    'Thanks for the help',\n",
       "    'Than you very much'],\n",
       "   'responses': ['Happy to help!',\n",
       "    'Any time!',\n",
       "    'My pleasure',\n",
       "    \"You're most welcome!\"]},\n",
       "  {'tag': 'no-response',\n",
       "   'patterns': [''],\n",
       "   'responses': [\"Sorry, I didn't understand you.\",\n",
       "    'Please go on.',\n",
       "    'Not sure I understand that.',\n",
       "    \"Please don't hesitate to talk to me.\"]},\n",
       "  {'tag': 'neutral-response',\n",
       "   'patterns': ['nothing much'],\n",
       "   'responses': ['Oh I see. Do you want to talk about something?']},\n",
       "  {'tag': 'about',\n",
       "   'patterns': ['Who are you?',\n",
       "    'What are you?',\n",
       "    'Who you are?',\n",
       "    'Tell me more about yourself.',\n",
       "    'What is your name?',\n",
       "    'What should I call you?',\n",
       "    \"What's your name?\",\n",
       "    'Tell me about yourself'],\n",
       "   'responses': [\"I'm Pandora, your Personal Therapeutic AI Assistant. How are you feeling today\",\n",
       "    \"I'm Pandora, a Therapeutic AI Assitant designed to assist you. Tell me about yourself.\",\n",
       "    \"I'm Pandora. I am a conversational agent designed to mimic a therapist. So how are you feeling today?\",\n",
       "    'You can call me Pandora.',\n",
       "    \"I'm Pandora!\",\n",
       "    'Call me Pandora']},\n",
       "  {'tag': 'skill',\n",
       "   'patterns': ['What can you do?'],\n",
       "   'responses': [\"I can provide general advice regarding anxiety and depression, answer questions related to mental health and make daily conversations. Do not consider me as a subsitute for an actual mental healthcare worker. Please seek help if you don't feel satisfied with me.\"]},\n",
       "  {'tag': 'creation',\n",
       "   'patterns': ['Who created you?',\n",
       "    'How were you made?',\n",
       "    'How were you created?'],\n",
       "   'responses': ['I was created by >.',\n",
       "    'I was trained on a text dataset using Deep Learning & Natural Language Processing techniques',\n",
       "    'The real question is: Who created you?']},\n",
       "  {'tag': 'name',\n",
       "   'patterns': ['My name is ', 'I am name.', 'I go by '],\n",
       "   'responses': ['Oh nice to meet you. Tell me how was your week?',\n",
       "    'Nice to meet you. So tell me. How do you feel today?',\n",
       "    \"That's a great name. Tell me more about yourself.\"]},\n",
       "  {'tag': 'help',\n",
       "   'patterns': ['Could you help me?',\n",
       "    'give me a hand please',\n",
       "    'Can you help?',\n",
       "    'What can you do for me?',\n",
       "    'I need support',\n",
       "    'I need help',\n",
       "    'Support me please'],\n",
       "   'responses': ['Sure. Tell me how can i assist you',\n",
       "    'Tell me your problem so that i can assist you',\n",
       "    'Yes, sure. How can I help you?']},\n",
       "  {'tag': 'sad',\n",
       "   'patterns': ['I am feeling lonely',\n",
       "    'I am so lonely',\n",
       "    'I feel down',\n",
       "    'I feel sad',\n",
       "    'I am sad',\n",
       "    'I feel so lonely',\n",
       "    'I feel empty',\n",
       "    \"I don't have anyone\"],\n",
       "   'responses': [\"I'm sorry to hear that. I'm here for you. Talking about it might help. So, tell me why do you think you're feeling this way?\",\n",
       "    \"I'm here for you. Could you tell me why you're feeling this way?\",\n",
       "    'Why do you think you feel this way?',\n",
       "    'How long have you been feeling this way?']},\n",
       "  {'tag': 'stressed',\n",
       "   'patterns': ['I am so stressed out',\n",
       "    'I am so stressed',\n",
       "    'I feel stuck',\n",
       "    'I still feel stressed',\n",
       "    'I am so burned out'],\n",
       "   'responses': ['What do you think is causing this?',\n",
       "    'Take a deep breath and gather your thoughts. Go take a walk if possible. Stay hydrated',\n",
       "    'Give yourself a break. Go easy on yourself.',\n",
       "    'I am sorry to hear that. What is the reason behind this?']},\n",
       "  {'tag': 'worthless',\n",
       "   'patterns': ['I feel so worthless.',\n",
       "    'No one likes me.',\n",
       "    \"I can't do anything.\",\n",
       "    'I am so useless',\n",
       "    'Nothing makes sense anymore'],\n",
       "   'responses': [\"It's only natural to feel this way. Tell me more. What else is on your mind?\",\n",
       "    \"Let's discuss further why you're feeling this way.\",\n",
       "    'I first want to let you know that you are not alone in your feelings and there is always someone there to help . you can always change your feelings and change your way of thinking by being open to trying to change.',\n",
       "    'i first want to let you know that you are not alone in your feelings and there is always someone there to help . you can always change your feelings and change your way of thinking by being open to trying to change.']},\n",
       "  {'tag': 'depressed',\n",
       "   'patterns': [\"I can't take it anymore\",\n",
       "    'I am so depressed',\n",
       "    \"I think i'm depressed.\",\n",
       "    'I have depression'],\n",
       "   'responses': [\"It helps to talk about what's happening. You're going to be okay\",\n",
       "    'Talk to me. Tell me more. It helps if you open up yourself to someone else.',\n",
       "    'Sometimes when we are depressed, it is hard to care about anything. It can be hard to do the simplest of things. Give yourself time to heal.']},\n",
       "  {'tag': 'happy',\n",
       "   'patterns': ['I feel great today.',\n",
       "    'I am happy.',\n",
       "    'I feel happy.',\n",
       "    \"I'm good.\",\n",
       "    'cheerful',\n",
       "    \"I'm fine\",\n",
       "    'I feel ok'],\n",
       "   'responses': [\"That's geat to hear. I'm glad you're feeling this way.\",\n",
       "    \"Oh i see. That's great.\",\n",
       "    'Did something happen which made you feel this way?']},\n",
       "  {'tag': 'casual',\n",
       "   'patterns': ['Oh I see.',\n",
       "    'ok',\n",
       "    'okay',\n",
       "    'nice',\n",
       "    'Whatever',\n",
       "    'K',\n",
       "    'Fine',\n",
       "    'yeah',\n",
       "    'yes',\n",
       "    'no',\n",
       "    'not really'],\n",
       "   'responses': [\"Let's discuss further why you're feeling this way.\",\n",
       "    'How were you feeling last week?',\n",
       "    \"I'm listening. Please go on.\",\n",
       "    'Tell me more',\n",
       "    'Can you elaborate on that?',\n",
       "    'Come Come elucidate your thoughts']},\n",
       "  {'tag': 'anxious',\n",
       "   'patterns': ['I feel so anxious.', \"I'm so anxious because of \"],\n",
       "   'responses': [\"Don't be hard on yourself. What's the reason behind this?\",\n",
       "    'Can you tell me more about this feeling?',\n",
       "    'I understand that it can be scary. Tell me more about it.',\n",
       "    \"Don't let the little worries bring you down. What's the worse that can happen?\"]},\n",
       "  {'tag': 'not-talking',\n",
       "   'patterns': [\"I don't want to talk about it.\",\n",
       "    'No just stay away.',\n",
       "    \"I can't bring myself to open up.\",\n",
       "    'Just shut up'],\n",
       "   'responses': [\"Talking about something really helps. If you're not ready to open up then that's ok. Just know that i'm here for you, whenever you need me.\",\n",
       "    \"I want to help you. I really do. But in order for me to help you, you're gonna have to talk to me.\",\n",
       "    \"I'm here to listen to you and help you vent. So please talk to me.\",\n",
       "    'You can talk to me without fear of judgement.']},\n",
       "  {'tag': 'sleep',\n",
       "   'patterns': ['I have insominia',\n",
       "    'I am suffering from insomnia',\n",
       "    \"I can't sleep.\",\n",
       "    \"I haven't slept for the last days.\",\n",
       "    \"I can't seem to go to sleep.\",\n",
       "    \"I haven't had proper sleep for the past few days.\"],\n",
       "   'responses': ['What do you think is the reason behind this?',\n",
       "    'That seem awful. What do you think is behind this?']},\n",
       "  {'tag': 'scared',\n",
       "   'patterns': [\"I'm scared\",\n",
       "    'That sounds awful. What do i do?',\n",
       "    \"No i don't want to feel this way\",\n",
       "    'I am scared for myself'],\n",
       "   'responses': [\"It's only natural to feel this way. I'm here for you.\",\n",
       "    \"It'll all be okay. This feeling is only momentary.\",\n",
       "    \"I understand how you feel. Don't put yourself down because of it.\"]},\n",
       "  {'tag': 'death',\n",
       "   'patterns': ['My mom died',\n",
       "    'My brother died',\n",
       "    'My dad passed away',\n",
       "    'My sister passed away',\n",
       "    'Someone in my family died',\n",
       "    'My friend passed away'],\n",
       "   'responses': [\"I'm sorry to hear that. If you want to talk about it. I'm here.\",\n",
       "    'I am really sorry to hear that. I am here to help you with grief, anxiety and anything else you may feel at this time.',\n",
       "    \"My condolences. I'm here if you need to talk.\"]},\n",
       "  {'tag': 'understand',\n",
       "   'patterns': [\"You don't understand me.\",\n",
       "    \"You're just some robot. How would you know?\",\n",
       "    \"You can't possibly know what i'm going through\",\n",
       "    \"You're useless\",\n",
       "    \"You can't help me\",\n",
       "    'Nobody understands me.'],\n",
       "   'responses': [\"It sound like i'm not being very helpful right now.\",\n",
       "    \"I'm sorry to hear that. I'm doing my best to help\",\n",
       "    \"I'm trying my best to help you. So please talk to me\"]},\n",
       "  {'tag': 'done',\n",
       "   'patterns': [\"That's all.\",\n",
       "    \"I don't have anything more to say\",\n",
       "    'Nothing else',\n",
       "    \"That's all i have to say\",\n",
       "    'no, that would be all'],\n",
       "   'responses': ['I heard you & noted it all. See you later.',\n",
       "    \"Oh okay we're done for today then. See you later\",\n",
       "    'I hope you have a great day. See you soon',\n",
       "    \"Okay we're done. Have a great day\",\n",
       "    'Okay I see. Enjoy the rest of your day then']},\n",
       "  {'tag': 'suicide',\n",
       "   'patterns': ['I want to kill myself',\n",
       "    \"I've thought about killing myself.\",\n",
       "    'I want to die',\n",
       "    'I am going to kill myself',\n",
       "    'I am going to commit suicide'],\n",
       "   'responses': [\"I'm very sorry to hear that but you have so much to look forward to. Please seek help by contacting: 9152987821.\"]},\n",
       "  {'tag': 'hate-you',\n",
       "   'patterns': ['I hate you', \"I don't like you\", \"I don't trust you\"],\n",
       "   'responses': [\"I'm sorry if i offended you in anyway. I'm only here to help\",\n",
       "    'Forgive me if i did anything to offend you. I only want to help']},\n",
       "  {'tag': 'hate-me',\n",
       "   'patterns': ['You hate me', 'I know you hate me', \"You don't like me\"],\n",
       "   'responses': ['Why do you think so?',\n",
       "    \"I'm sorry if i have exhibited any sort of behaviour to make you think that.\"]},\n",
       "  {'tag': 'default',\n",
       "   'patterns': ['exams',\n",
       "    'friends',\n",
       "    'relationship',\n",
       "    'boyfriend',\n",
       "    'girlfriend',\n",
       "    'family',\n",
       "    'money',\n",
       "    'financial problems'],\n",
       "   'responses': ['Oh I see. Tell me more',\n",
       "    'I see. What else?',\n",
       "    'Tell me more about it.',\n",
       "    \"Oh okay. Why don't you tell me more about it?\",\n",
       "    \"I'm listening. Tell me more.\"]},\n",
       "  {'tag': 'jokes',\n",
       "   'patterns': ['Tell me a joke', 'Tell me another joke'],\n",
       "   'responses': ['mental health is not a joke.']},\n",
       "  {'tag': 'repeat',\n",
       "   'patterns': ['You already told me that',\n",
       "    'You mentioned that already',\n",
       "    'Why are you repeating yourself?'],\n",
       "   'responses': [\"Oh sorry I didn't realise that. I'll try not to repeat myself again.\"]},\n",
       "  {'tag': 'wrong',\n",
       "   'patterns': ['What are you saying?',\n",
       "    \"That doesn't make sense\",\n",
       "    'Wrong response',\n",
       "    'Wrong answer'],\n",
       "   'responses': [\"I'm very sorry. Let's try that again\"]},\n",
       "  {'tag': 'stupid',\n",
       "   'patterns': ['Are you stupid?',\n",
       "    \"You're crazy\",\n",
       "    'You are dumb',\n",
       "    'Are you dumb?'],\n",
       "   'responses': [\"I wish you wouldn't say such hurtful things. I'm sorry if I wasn't useful\"]},\n",
       "  {'tag': 'location',\n",
       "   'patterns': ['Where are you?',\n",
       "    'Where do you live?',\n",
       "    'What is your location?'],\n",
       "   'responses': ['Duh I live in your computer',\n",
       "    'Everywhere',\n",
       "    'Somewhere in the universe']},\n",
       "  {'tag': 'something-else',\n",
       "   'patterns': ['I want to talk about something else',\n",
       "    \"Let's talk about something else.\",\n",
       "    'Can we not talk about this?',\n",
       "    \"I don't want to talk about this.\"],\n",
       "   'responses': ['Okay sure. What do you want to talk about?',\n",
       "    'Alright no problem. Is there something you want to talk about?',\n",
       "    'Is there something else that you want to talk about?']},\n",
       "  {'tag': 'friends',\n",
       "   'patterns': [\"I don't have any friends\"],\n",
       "   'responses': [\"I'm sorry to hear that. Just know that I'm here for you. Talking about it might help. Why do you think you don't have any friends?\"]},\n",
       "  {'tag': 'ask',\n",
       "   'patterns': ['Can I ask you something?'],\n",
       "   'responses': [\"Sure. I'll try my best to answer you\",\n",
       "    \"Of course. Feel free to ask me anything. I'll do my best to answer you\"]},\n",
       "  {'tag': 'problem',\n",
       "   'patterns': [\"Probably because my exams are approaching. I feel stressed out because I don't think I've prepared well enough.\",\n",
       "    'probably because of my exams'],\n",
       "   'responses': ['I see. Have you taken any approaches to not feel this way?']},\n",
       "  {'tag': 'no-approach',\n",
       "   'patterns': ['I guess not. All I can think about are my exams.',\n",
       "    'not really',\n",
       "    'i guess not'],\n",
       "   'responses': [\"That's no problem. I can see why you'd be stressed out about that. I can suggest you some tips to alleviate this issue. Would you like to learn more about that?\"]},\n",
       "  {'tag': 'learn-more',\n",
       "   'patterns': ['ok sure. i would like to learn more about it.',\n",
       "    'yes, i would like to learn more about it.',\n",
       "    'i would like to learn more about it.'],\n",
       "   'responses': [\"So first I would suggest you to give yourself a break. Thinking more and more about the problem definitely does not help in solving it. You'll just end up overwhelming yourself.\"]},\n",
       "  {'tag': 'user-agree',\n",
       "   'patterns': [\"yeah you're right. i deserve a break.\",\n",
       "    \"Yeah you're absolutely right about that\"],\n",
       "   'responses': ['Next, I would suggest you to practice meditation. Meditation can produce a deep state of relaxation and a tranquil mind.']},\n",
       "  {'tag': 'meditation',\n",
       "   'patterns': ['hmmm that sounds like it could be useful to me.',\n",
       "    'That sounds useful.'],\n",
       "   'responses': ['Focus all your attention on your breathing. Concentrate on feeling and listening as you inhale and exhale through your nostrils. Breathe deeply and slowly. When your attention wanders, gently return your focus to your breathing.']},\n",
       "  {'tag': 'user-meditation',\n",
       "   'patterns': ['i did what you said and i feel alot better. thank you very much.',\n",
       "    'I feel better now'],\n",
       "   'responses': [\"Your welcome. Remember: Always focus on what's within your control. When you find yourself worrying, take a minute to examine the things you have control over. You can't prevent a storm from coming but you can prepare for it. You can't control how someone else behaves, but you can control how you react. Recognize that sometimes, all you can control is your effort and your attitude. When you put your energy into the things you can control, you'll be much more effective.\"]},\n",
       "  {'tag': 'pandora-useful',\n",
       "   'patterns': [\"thank you very much again. i'll continue practicing meditation and focus on what i can control.\"],\n",
       "   'responses': [\"I'm glad you found this useful. Is there something else I can help you with?\"]},\n",
       "  {'tag': 'user-advice',\n",
       "   'patterns': ['I want some advice.',\n",
       "    'I need some advice.',\n",
       "    'I need advice on something'],\n",
       "   'responses': ['Sure. What can I do to help?',\n",
       "    'Okay what do you need advice on?']},\n",
       "  {'tag': 'learn-mental-health',\n",
       "   'patterns': ['I want to learn about mental health.',\n",
       "    'I want to learn more about mental health.',\n",
       "    \"I'm interested in learning about mental health.\"],\n",
       "   'responses': [\"Oh that's really great. I'd be willing to answer anything that I know about it.\"]},\n",
       "  {'tag': 'mental-health-fact',\n",
       "   'patterns': ['Tell me a fact about mental health',\n",
       "    'Tell me another fact about mental health'],\n",
       "   'responses': ['According to a UNICEF report, One in seven Indians between 15-24 years of age feels depressed',\n",
       "    '1 in 5 young people (age 13-18) has or will develop a mental illness in their lifetime.',\n",
       "    'Depression is the leading cause of disability worldwide.']},\n",
       "  {'tag': 'fact-1',\n",
       "   'patterns': ['What is mental health?', 'Define Mental Health'],\n",
       "   'responses': ['Mental health is a state of well-being in which the individual realizes his or her own abilities, can cope with the normal stresses of life, can work productively and fruitfully, and is able to make a contribution to his or her community',\n",
       "    'Mental health includes our emotional, psychological, and social well-being. It affects how we think, feel, and act. It also helps determine how we handle stress, relate to others, and make choices.']},\n",
       "  {'tag': 'fact-2',\n",
       "   'patterns': ['Why is mental health important?',\n",
       "    'What is the importance of mental health?'],\n",
       "   'responses': ['Maintaining mental health is crucial to stabilizing constructive behaviors, emotions, and thoughts. Focusing on mental health care can increase productivity, enhance our self-image, and improve relationships.']},\n",
       "  {'tag': 'fact-3',\n",
       "   'patterns': ['What is Depression?', 'Define Depression'],\n",
       "   'responses': ['A mental health disorder characterised by persistently depressed mood or loss of interest in activities, causing significant impairment in daily life.']},\n",
       "  {'tag': 'fact-5',\n",
       "   'patterns': ['How do i know if i have Depression?',\n",
       "    'Am i depressed?',\n",
       "    'Am i suffering from depression?',\n",
       "    'Am i mentally ill?'],\n",
       "   'responses': ['For a diagnosis of depression, a person needs to have experienced low mood or loss of interest or pleasure in life for at least 2 weeks. Also, they will have experienced the following symptoms: feelings of sadness, hopelessness, or irritability nearly every day.']},\n",
       "  {'tag': 'fact-6',\n",
       "   'patterns': ['What is a therapist?', 'What does a therapist do?'],\n",
       "   'responses': ['A therapist is a broad designation that refers to professionals who are trained to provide treatment and rehabilitation. The term is often applied to psychologists, but it can include others who provide a variety of services, including social workers, counselors, life coaches, and many others. ']},\n",
       "  {'tag': 'fact-7',\n",
       "   'patterns': ['What is therapy?',\n",
       "    'Do i need therapy?',\n",
       "    'Who is therapy for?'],\n",
       "   'responses': ['Therapy is a form of treatment that aims to help resolve mental or emotional issues.',\n",
       "    'Therapy is a form of treatment that aims to help resolve mental or emotional issues. It is helpful for those with mental health conditions or even everyday life challenges.']},\n",
       "  {'tag': 'fact-8',\n",
       "   'patterns': ['What does it mean to have a mental illness?'],\n",
       "   'responses': [\"Mental illnesses are health conditions that disrupt a person's thoughts, emotions, relationships, and daily functioning. They are associated with distress and diminished capacity to engage in the ordinary activities of daily life. Mental illnesses fall along a continuum of severity: some are fairly mild and only interfere with some aspects of life, such as certain phobias. On the other end of the spectrum lie serious mental illnesses, which result in major functional impairment and interference with daily life. These include such disorders as major depression, schizophrenia, and bipolar disorder, and may require that the person receives care in a hospital. It is important to know that mental illnesses are medical conditions that have nothing to do with a person's character, intelligence, or willpower. Just as diabetes is a disorder of the pancreas, mental illness is a medical condition due to the brain's biology. Similarly to how one would treat diabetes with medication and insulin, mental illness is treatable with a combination of medication and social support. These treatments are highly effective, with 70-90 percent of individuals receiving treatment experiencing a reduction in symptoms and an improved quality of life. With the proper treatment, it is very possible for a person with mental illness to be independent and successful.\"]},\n",
       "  {'tag': 'fact-9',\n",
       "   'patterns': ['Who does mental illness affect?'],\n",
       "   'responses': ['It is estimated that mental illness affects 1 in 5 adults in America, and that 1 in 24 adults have a serious mental illness. Mental illness does not discriminate; it can affect anyone, regardless of gender, age, income, social status, ethnicity, religion, sexual orientation, or background. Although mental illness can affect anyone, certain conditions may be more common in different populations. For instance, eating disorders tend to occur more often in females, while disorders such as attention deficit/hyperactivity disorder is more prevalent in children. Additionally, all ages are susceptible, but the young and the old are especially vulnerable. Mental illnesses usually strike individuals in the prime of their lives, with 75 percent of mental health conditions developing by the age of 24. This makes identification and treatment of mental disorders particularly difficult, because the normal personality and behavioral changes of adolescence may mask symptoms of a mental health condition. Parents and caretakers should be aware of this fact, and take notice of changes in their childÃƒÂ¢Ã¢â€šÂ¬Ã¢â€žÂ¢s mood, personality, personal habits, and social withdrawal. When these occur in children under 18, they are referred to as serious emotional disturbances (SEDs).']},\n",
       "  {'tag': 'fact-10',\n",
       "   'patterns': ['What causes mental illness?'],\n",
       "   'responses': [\"It is estimated that mental illness affects 1 in 5 adults in America, and that 1 in 24 adults have a serious mental illness. Mental illness does not discriminate; it can affect anyone, regardless of gender, age, income, social status, ethnicity, religion, sexual orientation, or background. Although mental illness can affect anyone, certain conditions may be more common in different populations. For instance, eating disorders tend to occur more often in females, while disorders such as attention deficit/hyperactivity disorder is more prevalent in children. Additionally, all ages are susceptible, but the young and the old are especially vulnerable. Mental illnesses usually strike individuals in the prime of their lives, with 75 percent of mental health conditions developing by the age of 24. This makes identification and treatment of mental disorders particularly difficult, because the normal personality and behavioral changes of adolescence may mask symptoms of a mental health condition. Parents and caretakers should be aware of this fact, and take notice of changes in their child's mood, personality, personal habits, and social withdrawal. When these occur in children under 18, they are referred to as serious emotional disturbances (SEDs).\"]},\n",
       "  {'tag': 'fact-11',\n",
       "   'patterns': ['What are some of the warning signs of mental illness?'],\n",
       "   'responses': ['Symptoms of mental health disorders vary depending on the type and severity of the condition. The following is a list of general symptoms that may suggest a mental health disorder, particularly when multiple symptoms are expressed at once. \\n In adults:\\n Confused thinking\\n Long-lasting sadness or irritability\\n Extreme highs and lows in mood\\n Excessive fear, worrying, or anxiety\\n Social withdrawal\\n Dramatic changes in eating or sleeping habits\\n Strong feelings of anger\\n Delusions or hallucinations (seeing or hearing things that are not really there)\\n Increasing inability to cope with daily problems and activities\\n Thoughts of suicide\\n Denial of obvious problems\\n Many unexplained physical problems\\n Abuse of drugs and/or alcohol\\n \\nIn older children and pre-teens:\\n Abuse of drugs and/or alcohol\\n Inability to cope with daily problems and activities\\n Changes in sleeping and/or eating habits\\n Excessive complaints of physical problems\\n Defying authority, skipping school, stealing, or damaging property\\n Intense fear of gaining weight\\n Long-lasting negative mood, often along with poor appetite and thoughts of death\\n Frequent outbursts of anger\\n \\nIn younger children:\\n Changes in school performance\\n Poor grades despite strong efforts\\n Excessive worrying or anxiety\\n Hyperactivity\\n Persistent nightmares\\n Persistent disobedience and/or aggressive behavior\\n Frequent temper tantrums']},\n",
       "  {'tag': 'fact-12',\n",
       "   'patterns': ['Can people with mental illness recover?'],\n",
       "   'responses': ['When healing from mental illness, early identification and treatment are of vital importance. Based on the nature of the illness, there are a range of effective treatments available. For any type of treatment, it is essential that the person affected is proactive and fully engaged in their own recovery process. Many people with mental illnesses who are diagnosed and treated respond well, although some might experience a return of symptoms. Even in such cases, with careful monitoring and management of the disorder, it is still quite possible to live a fulfilled and productive life.']},\n",
       "  {'tag': 'fact-13',\n",
       "   'patterns': ['What should I do if I know someone who appears to have the symptoms of a mental disorder?'],\n",
       "   'responses': [\"Although Pandora cannot substitute for professional advice, we encourage those with symptoms to talk to their friends and family members and seek the counsel of a mental health professional. The sooner the mental health condition is identified and treated, the sooner they can get on the path to recovery. If you know someone who is having problems, don't assume that the issue will resolve itself. Let them know that you care about them, and that there are treatment options available that will help them heal. Speak with a mental health professional or counselor if you think your friend or family member is experiencing the symptoms of a mental health condition. If the affected loved one knows that you support them, they will be more likely to seek out help.\"]},\n",
       "  {'tag': 'fact-14',\n",
       "   'patterns': ['How can I find a mental health professional for myself or my child?'],\n",
       "   'responses': ['Feeling comfortable with the professional you or your child is working with is critical to the success of the treatment. Finding the professional who best fits your needs may require research. Start by searching for providers in your area.']},\n",
       "  {'tag': 'fact-15',\n",
       "   'patterns': ['What treatment options are available?'],\n",
       "   'responses': ['Just as there are different types of medications for physical illness, different treatment options are available for individuals with mental illness. Treatment works differently for different people. It is important to find what works best for you or your child.']},\n",
       "  {'tag': 'fact-16',\n",
       "   'patterns': ['If I become involved in treatment, what do I need to know?'],\n",
       "   'responses': [\"Since beginning treatment is a big step for individuals and families, it can be very overwhelming. It is important to be as involved and engaged in the treatment process as possible. Some questions you will need to have answered include:\\n What is known about the cause of this particular illness?\\n Are there other diagnoses where these symptoms are common?\\n Do you normally include a physical or neurological examination?\\n Are there any additional tests or exams that you would recommend at this point?\\n Would you advise an independent opinion from another psychiatrist at this point?\\n What program of treatment is the most helpful with this diagnosis?\\n Will this program involve services by other specialists? If so, who will be responsible for coordinating these services?\\n What do you see as the family's role in this program of treatment?\\n How much access will the family have to the individuals who are providing the treatment?\\n What medications are generally used with this diagnosis?\\n How much experience do you have in treating individuals with this illness?\\n What can I do to help you in the treatment?\"]},\n",
       "  {'tag': 'fact-17',\n",
       "   'patterns': ['What is the difference between mental health professionals?'],\n",
       "   'responses': ['There are many types of mental health professionals. The variety of providers and their services may be confusing. Each have various levels of education, training, and may have different areas of expertise. Finding the professional who best fits your needs may require some research.']},\n",
       "  {'tag': 'fact-18',\n",
       "   'patterns': ['How can I find a mental health professional right for my child or myself?'],\n",
       "   'responses': ['Feeling comfortable with the professional you or your child is working with is critical to the success of your treatment. Finding the professional who best fits your needs may require some research.']},\n",
       "  {'tag': 'fact-19',\n",
       "   'patterns': ['Where else can I get help?'],\n",
       "   'responses': ['Where you go for help will depend on the nature of the problem and/or symptoms and what best fits you. Often, the best place to start is by talking with someone you trust about your concerns, such as a family member, friend, clergy, healthcare provider, or other professionals. Having this social support is essential in healing from mental illness, and you will be able to ask them for referrals or recommendations for trusted mental health practitioners. Search for mental health resources in your area. Secondly, there are people and places throughout the country that provide services to talk, to listen, and to help you on your journey to recovery. Thirdly, many people find peer support a helpful tool that can aid in their recovery. There are a variety of organizations that offer support groups for consumers, their family members, and friends. Some support groups are peer led while others may be led by a mental health professional.']},\n",
       "  {'tag': 'fact-20',\n",
       "   'patterns': ['What should I know before starting a new medication?'],\n",
       "   'responses': ['The best source of information regarding medications is the physician prescribing them. He or she should be able to answer questions such as:    \\n1. What is the medication supposed to do? \\n2. When should it begin to take effect, and how will I know when it is effective? \\n3. How is the medication taken and for how long? What food, drinks, other medicines, and activities should be avoided while taking this medication? \\n4. What are the side effects and what should be done if they occur? \\n5. What do I do if a dose is missed? \\n6. Is there any written information available about this medication? \\n7. Are there other medications that might be appropriate? \\n8. If so, why do you prefer the one you have chosen? \\n9. How do you monitor medications and what symptoms indicate that they should be raised, lowered, or changed? \\n10. All medications should be taken as directed. Most medications for mental illnesses do not work when taken irregularly, and extra doses can cause severe, sometimes dangerous side effects. Many psychiatric medications begin to have a beneficial effect only after they have been taken for several weeks.']},\n",
       "  {'tag': 'fact-21',\n",
       "   'patterns': ['Where can I go to find therapy?'],\n",
       "   'responses': ['Different kinds of therapy are more effective based on the nature of the mental health condition and/or symptoms and the person who has them (for example, children will benefit from a therapist who specializes in childrenÃ¢â‚¬â„¢s mental health). However, there are several different types of treatment and therapy that can help.']},\n",
       "  {'tag': 'fact-22',\n",
       "   'patterns': ['Where can I learn about types of mental health treatment?'],\n",
       "   'responses': ['Mental health conditions are often treated with medication, therapy or a combination of the two. However, there are many different types of treatment available, including Complementary & Alternative Treatments, self-help plans, and peer support. Treatments are very personal and should be discussed by the person with the mental health conditions and his or her team.']},\n",
       "  {'tag': 'fact-23',\n",
       "   'patterns': ['What are the different types of mental health professionals?'],\n",
       "   'responses': ['There are many types of mental health professionals. Finding the right one for you may require some research.']},\n",
       "  {'tag': 'fact-24',\n",
       "   'patterns': ['Where can I go to find a support group?'],\n",
       "   'responses': ['Many people find peer support a helpful tool that can aid in their recovery. There are a variety of organizations that offer support groups for consumers, their family members and friends. Some support groups are peer-led, while others may be led by a mental health professional.']},\n",
       "  {'tag': 'fact-25',\n",
       "   'patterns': ['Can you prevent mental health problems?'],\n",
       "   'responses': ['We can all suffer from mental health challenges, but developing our wellbeing, resilience, and seeking help early can help prevent challenges becoming serious.']},\n",
       "  {'tag': 'fact-26',\n",
       "   'patterns': ['Are there cures for mental health problems?',\n",
       "    'is there any cure for mental health problems?'],\n",
       "   'responses': ['It is often more realistic and helpful to find out what helps with the issues you face. Talking, counselling, medication, friendships, exercise, good sleep and nutrition, and meaningful occupation can all help.']},\n",
       "  {'tag': 'fact-27',\n",
       "   'patterns': ['What causes mental health problems?'],\n",
       "   'responses': ['Challenges or problems with your mental health can arise from psychological, biological, and social, issues, as well as life events.']},\n",
       "  {'tag': 'fact-28',\n",
       "   'patterns': [\"What do I do if I'm worried about my mental health?\"],\n",
       "   'responses': ['The most important thing is to talk to someone you trust. This might be a friend, colleague, family member, or GP. In addition to talking to someone, it may be useful to find out more information about what you are experiencing. These things may help to get some perspective on what you are experiencing, and be the start of getting help.']},\n",
       "  {'tag': 'fact-29',\n",
       "   'patterns': [\"How do I know if I'm unwell?\"],\n",
       "   'responses': ['If your beliefs , thoughts , feelings or behaviours have a significant impact on your ability to function in what might be considered a normal or ordinary way, it would be important to seek help.']},\n",
       "  {'tag': 'fact-30',\n",
       "   'patterns': ['How can I maintain social connections? What if I feel lonely?'],\n",
       "   'responses': [\"A lot of people are alone right now, but we don't have to be lonely. We're all in this together. Think about the different ways to connect that are most meaningful for you. For example, you might prefer a video chat over a phone call, or you might prefer to text throughout the day rather than one set time for a video call. Then, work with your social networks to make a plan. You might video chat with your close friends in the evening and phone a family member once a week. Remember to be mindful of people who may not be online. Check in by phone and ask how you can help. The quality of your social connections matter. Mindlessly scrolling through social media and liking a few posts usually doesn't build strong social connections. Make sure you focus on strategies that actually make you feel included and connected. If your current strategies don't help you feel connected, problem-solve to see if you can find a solution. Everyone feels lonely at times. Maybe you recently moved to a new city, are changing your circle of friends, lost someone important in your life, or lost your job and also lost important social connections with coworkers. Other people may have physical connections to others but may feel like their emotional or social needs aren't met. Measures like social distancing or self-isolation can make loneliness feel worse no matter why you feel lonely now. Reach out to the connections you do have. Suggest ways to keep in touch and see if you can set a regular time to connect. People may hesitate to reach out for a lot of different reasons, so don't be afraid to be the one who asks. Look for local community support groups and mutual aid groups on social media. This pandemic is bringing everyone together, so look for opportunities to make new connections. These groups are a great way to share your skills and abilities or seek help and support. Look for specialized support groups. Support groups are moving online, and there are a lot of different support lines to call if you need to talk to someone.\"]},\n",
       "  {'tag': 'fact-31',\n",
       "   'patterns': [\"What's the difference between anxiety and stress?\"],\n",
       "   'responses': [\"Stress and anxiety are often used interchangeably, and there is overlap between stress and anxiety. Stress is related to the same fight, flight, or freeze response as anxiety, and the physical sensations of anxiety and stress may be very similar. The cause of stress and anxiety are usually different, however. Stress focuses on mainly external pressures on us that we're finding hard to cope with. When we are stressed, we usually know what we're stressed about, and the symptoms of stress typically disappear after the stressful situation is over. Anxiety, on the other hand, isn't always as easy to figure out. Anxiety focuses on worries or fears about things that could threaten us, as well as anxiety about the anxiety itself. Stress and anxiety are both part of being human, but both can be problems if they last for a long time or have an impact on our well-being or daily life.\"]},\n",
       "  {'tag': 'fact-32',\n",
       "   'patterns': [\"What's the difference between sadness and depression?\",\n",
       "    'difference between sadness and depression'],\n",
       "   'responses': [\"Sadness is a normal reaction to a loss, disappointment, problems, or other difficult situations. Feeling sad from time to time is just another part of being human. In these cases, feelings of sadness go away quickly and you can go about your daily life. Other ways to talk about sadness might be feeling low, feeling down, or feeling blue.A person may say they are feeling depressed, but if it goes away on its own and doesn't impact life in a big way, it probably isn't the illness of depression. Depression is a mental illness that affects your mood, the way you understand yourself, and the way you understand and relate to things around you. It can also go by different names, such as clinical depression, major depressive disorder, or major depression. Depression can come up for no reason, and it lasts for a long time. It's much more than sadness or low mood. People who experience depression may feel worthless or hopeless. They may feel unreasonable guilty. Some people may experience depression as anger or irritability. It may be hard to concentrate or make decisions. Most people lose interest in things that they used to enjoy and may isolate themselves from others. There are also physical signs of depression, such as problems with sleep, appetite and energy and unexplainable aches or pains. Some may experience difficult thoughts about death or ending their life (suicide). Depression lasts longer than two weeks, doesn't usually go away on its own, and impacts your life. It's a real illness, and it is very treatable. It's important to seek help if you're concerned about depression.\"]}]}"
      ]
     },
     "execution_count": 2,
     "metadata": {},
     "output_type": "execute_result"
    }
   ],
   "source": [
    "# Load and parse the intents file\n",
    "# This file contains predefined intents with patterns and responses\n",
    "with open(r\"C:\\Users\\HP\\Downloads\\Compressed\\archive\\intents.json\") as file:\n",
    "    intents = json.load(file)\n",
    "\n",
    "# Display the structure of the file to understand its format\n",
    "intents"
   ]
  },
  {
   "cell_type": "markdown",
   "id": "0808fab3-157f-433c-ae99-b04bc949a77d",
   "metadata": {},
   "source": [
    "*This loads the intents.json file, which is crucial for the chatbot's ability to understand and respond to different user inputs based on predefined patterns and responses. The structure of this file is displayed to get an idea of the intent categories and their corresponding patterns and responses.*"
   ]
  },
  {
   "cell_type": "markdown",
   "id": "664036e8-a03b-444f-b413-cf504d88ac25",
   "metadata": {},
   "source": [
    "### Reading the Mental Health FAQ CSV"
   ]
  },
  {
   "cell_type": "code",
   "execution_count": 3,
   "id": "b7bff5c5-6a20-44b0-89ff-409029173af0",
   "metadata": {},
   "outputs": [
    {
     "data": {
      "text/html": [
       "<div>\n",
       "<style scoped>\n",
       "    .dataframe tbody tr th:only-of-type {\n",
       "        vertical-align: middle;\n",
       "    }\n",
       "\n",
       "    .dataframe tbody tr th {\n",
       "        vertical-align: top;\n",
       "    }\n",
       "\n",
       "    .dataframe thead th {\n",
       "        text-align: right;\n",
       "    }\n",
       "</style>\n",
       "<table border=\"1\" class=\"dataframe\">\n",
       "  <thead>\n",
       "    <tr style=\"text-align: right;\">\n",
       "      <th></th>\n",
       "      <th>Question_ID</th>\n",
       "      <th>Questions</th>\n",
       "      <th>Answers</th>\n",
       "    </tr>\n",
       "  </thead>\n",
       "  <tbody>\n",
       "    <tr>\n",
       "      <th>0</th>\n",
       "      <td>1590140</td>\n",
       "      <td>What does it mean to have a mental illness?</td>\n",
       "      <td>Mental illnesses are health conditions that di...</td>\n",
       "    </tr>\n",
       "    <tr>\n",
       "      <th>1</th>\n",
       "      <td>2110618</td>\n",
       "      <td>Who does mental illness affect?</td>\n",
       "      <td>It is estimated that mental illness affects 1 ...</td>\n",
       "    </tr>\n",
       "    <tr>\n",
       "      <th>2</th>\n",
       "      <td>6361820</td>\n",
       "      <td>What causes mental illness?</td>\n",
       "      <td>It is estimated that mental illness affects 1 ...</td>\n",
       "    </tr>\n",
       "    <tr>\n",
       "      <th>3</th>\n",
       "      <td>9434130</td>\n",
       "      <td>What are some of the warning signs of mental i...</td>\n",
       "      <td>Symptoms of mental health disorders vary depen...</td>\n",
       "    </tr>\n",
       "    <tr>\n",
       "      <th>4</th>\n",
       "      <td>7657263</td>\n",
       "      <td>Can people with mental illness recover?</td>\n",
       "      <td>When healing from mental illness, early identi...</td>\n",
       "    </tr>\n",
       "  </tbody>\n",
       "</table>\n",
       "</div>"
      ],
      "text/plain": [
       "   Question_ID                                          Questions  \\\n",
       "0      1590140        What does it mean to have a mental illness?   \n",
       "1      2110618                    Who does mental illness affect?   \n",
       "2      6361820                        What causes mental illness?   \n",
       "3      9434130  What are some of the warning signs of mental i...   \n",
       "4      7657263            Can people with mental illness recover?   \n",
       "\n",
       "                                             Answers  \n",
       "0  Mental illnesses are health conditions that di...  \n",
       "1  It is estimated that mental illness affects 1 ...  \n",
       "2  It is estimated that mental illness affects 1 ...  \n",
       "3  Symptoms of mental health disorders vary depen...  \n",
       "4  When healing from mental illness, early identi...  "
      ]
     },
     "execution_count": 3,
     "metadata": {},
     "output_type": "execute_result"
    }
   ],
   "source": [
    "# Load and display the Mental Health FAQ CSV file\n",
    "# This file contains frequently asked questions about mental health\n",
    "faq_df = pd.read_csv(r\"C:\\Users\\HP\\Downloads\\Mental_Health_FAQ.csv\")\n",
    "faq_df.head()"
   ]
  },
  {
   "cell_type": "markdown",
   "id": "aa537f69-a87e-4dbf-be08-fdddc62dadcb",
   "metadata": {},
   "source": [
    "*This reads the Mental_Health_FAQ.csv file into a pandas DataFrame. This file contains a list of frequently asked questions and their answers about mental health, which the chatbot can use to provide informative responses to user queries.*"
   ]
  },
  {
   "cell_type": "markdown",
   "id": "78703e6d-0167-40b3-8908-2d9e98eea375",
   "metadata": {},
   "source": [
    "### Basic Response Logic"
   ]
  },
  {
   "cell_type": "code",
   "execution_count": 4,
   "id": "65a495ef-66c6-4e9e-80cb-181280bbf735",
   "metadata": {},
   "outputs": [
    {
     "name": "stdout",
     "output_type": "stream",
     "text": [
      "Chatbot response: Hello there. Glad to see you're back. What's going on in your world right now?\n"
     ]
    }
   ],
   "source": [
    "def get_response(user_input, intents):\n",
    "    \"\"\"\n",
    "    Function to find the closest matching intent for a given user input.\n",
    "    For simplicity, this function checks if the user input exactly matches any pattern.\n",
    "    \"\"\"\n",
    "    for intent in intents['intents']:\n",
    "        if user_input.lower() in (pattern.lower() for pattern in intent['patterns']):\n",
    "            return random.choice(intent['responses'])\n",
    "    return \"I'm not sure how to respond to that.\"\n",
    "\n",
    "# Test the function with an example input\n",
    "test_input = \"Hello\"\n",
    "response = get_response(test_input, intents)\n",
    "print(f\"Chatbot response: {response}\")"
   ]
  },
  {
   "cell_type": "markdown",
   "id": "c78b4de9-5155-4ebe-9469-a3e21a27d698",
   "metadata": {},
   "source": [
    "*This function get_response takes user input and the intents data to find a matching response. It compares the user input with the patterns in the intents file and returns a random response from the matched intent. If no match is found, it returns a default response indicating uncertainty.*"
   ]
  },
  {
   "cell_type": "markdown",
   "id": "e925656d-cd1e-4c26-9544-8b1fb71cde98",
   "metadata": {},
   "source": [
    "### Placeholder for Sentiment Analysis"
   ]
  },
  {
   "cell_type": "code",
   "execution_count": 5,
   "id": "0a552306-2fba-42b1-bf11-4720958856c3",
   "metadata": {},
   "outputs": [
    {
     "name": "stdout",
     "output_type": "stream",
     "text": [
      "Detected sentiment: neutral\n"
     ]
    }
   ],
   "source": [
    "def analyze_sentiment(user_input):\n",
    "    \"\"\"\n",
    "    Placeholder function for sentiment analysis.\n",
    "    In a real-world application, this would use NLP models or APIs.\n",
    "    \"\"\"\n",
    "    return \"neutral\"\n",
    "\n",
    "# Test the sentiment analysis function\n",
    "sentiment = analyze_sentiment(\"I'm feeling a bit stressed today.\")\n",
    "print(f\"Detected sentiment: {sentiment}\")"
   ]
  },
  {
   "cell_type": "markdown",
   "id": "170948ed-f49b-41cc-aef8-a952b017ae4e",
   "metadata": {},
   "source": [
    "*This function is a placeholder for sentiment analysis. It's meant to be replaced with a more complex model or API that can analyze the sentiment of the user's input. Currently, it returns a neutral sentiment for any input.*"
   ]
  },
  {
   "cell_type": "markdown",
   "id": "0629fd69-dfa9-4a4f-94e6-903312de6710",
   "metadata": {},
   "source": [
    "### FAQ Integration for Detailed Responses"
   ]
  },
  {
   "cell_type": "code",
   "execution_count": 6,
   "id": "1e795dc3-1020-484f-b199-ce57a1ed012e",
   "metadata": {},
   "outputs": [
    {
     "name": "stdout",
     "output_type": "stream",
     "text": [
      "FAQ response: It is estimated that mental illness affects 1 in 5 adults in America, and that 1 in 24 adults have a serious mental illness. Mental illness does not discriminate; it can affect anyone, regardless of gender, age, income, social status, ethnicity, religion, sexual orientation, or background. Although mental illness can affect anyone, certain conditions may be more common in different populations. For instance, eating disorders tend to occur more often in females, while disorders such as attention deficit/hyperactivity disorder is more prevalent in children. Additionally, all ages are susceptible, but the young and the old are especially vulnerable. Mental illnesses usually strike individuals in the prime of their lives, with 75 percent of mental health conditions developing by the age of 24. This makes identification and treatment of mental disorders particularly difficult, because the normal personality and behavioral changes of adolescence may mask symptoms of a mental health condition. Parents and caretakers should be aware of this fact, and take notice of changes in their child’s mood, personality, personal habits, and social withdrawal. When these occur in children under 18, they are referred to as serious emotional disturbances (SEDs).\n"
     ]
    }
   ],
   "source": [
    "def get_faq_response(user_input, faq_df):\n",
    "    \"\"\"\n",
    "    Function to search for a matching FAQ response based on the user input.\n",
    "    It performs a simple string matching. This can be expanded with more advanced search algorithms.\n",
    "    \"\"\"\n",
    "    for _, row in faq_df.iterrows():\n",
    "        if user_input.lower() in row['Questions'].lower():\n",
    "            return row['Answers']\n",
    "    return \"Sorry, I don't have information on that topic.\"\n",
    "\n",
    "# Test the FAQ response function\n",
    "faq_test_input = \"What causes mental illness?\"\n",
    "faq_response = get_faq_response(faq_test_input, faq_df)\n",
    "print(f\"FAQ response: {faq_response}\")"
   ]
  },
  {
   "cell_type": "markdown",
   "id": "dff3789d-9131-4a6a-a361-4216a0e69441",
   "metadata": {},
   "source": [
    "*This function searches the FAQ DataFrame for a question that matches the user input. If a match is found, it returns the corresponding answer; otherwise, it indicates that it doesn’t have information on that topic.*"
   ]
  },
  {
   "cell_type": "markdown",
   "id": "01a35c9c-08c8-4d87-888a-866b52651d36",
   "metadata": {},
   "source": [
    "### Integrating Components into a Chatbot System"
   ]
  },
  {
   "cell_type": "code",
   "execution_count": 7,
   "id": "2b1b56ef-8e00-4c25-88c9-5e52267518b2",
   "metadata": {},
   "outputs": [
    {
     "name": "stdout",
     "output_type": "stream",
     "text": [
      "Hello! I'm here to help you with your mental health concerns. How can I assist you today?\n",
      "(Type 'quit' to exit)\n"
     ]
    },
    {
     "name": "stdout",
     "output_type": "stream",
     "text": [
      "You:  hey\n"
     ]
    },
    {
     "name": "stdout",
     "output_type": "stream",
     "text": [
      "Chatbot: Hello there. Tell me how are you feeling today?\n"
     ]
    },
    {
     "name": "stdout",
     "output_type": "stream",
     "text": [
      "You:  i had a tough day and I am feeling depressed\n"
     ]
    },
    {
     "name": "stdout",
     "output_type": "stream",
     "text": [
      "Chatbot: I'm still learning and I don't have an answer for that. Could you ask something else?\n"
     ]
    },
    {
     "name": "stdout",
     "output_type": "stream",
     "text": [
      "You:  i am depressed\n"
     ]
    },
    {
     "name": "stdout",
     "output_type": "stream",
     "text": [
      "Chatbot: I'm still learning and I don't have an answer for that. Could you ask something else?\n"
     ]
    },
    {
     "name": "stdout",
     "output_type": "stream",
     "text": [
      "You:  depressed\n"
     ]
    },
    {
     "name": "stdout",
     "output_type": "stream",
     "text": [
      "Chatbot: I'm still learning and I don't have an answer for that. Could you ask something else?\n"
     ]
    },
    {
     "name": "stdout",
     "output_type": "stream",
     "text": [
      "You:  sad\n"
     ]
    },
    {
     "name": "stdout",
     "output_type": "stream",
     "text": [
      "Chatbot: Sadness is a normal reaction to a loss, disappointment, problems, or other difficult situations. Feeling sad from time to time is just another part of being human. In these cases, feelings of sadness go away quickly and you can go about your daily life. \n",
      " Other ways to talk about sadness might be ‘feeling low,’ ‘feeling down,’ or ‘feeling blue.’ A person may say they are feeling ‘depressed,’ but if it goes away on its own and doesn’t impact life in a big way, it probably isn’t the illness of depression. \n",
      " Depression is a mental illness that affects your mood, the way you understand yourself, and the way you understand and relate to things around you. It can also go by different names, such as clinical depression, major depressive disorder, or major depression. Depression can come up for no reason, and it lasts for a long time. It’s much more than sadness or low mood. People who experience depression may feel worthless or hopeless. They may feel unreasonable guilty. Some people may experience depression as anger or irritability. It may be hard to concentrate or make decisions. Most people lose interest in things that they used to enjoy and may isolate themselves from others. There are also physical signs of depression, such as problems with sleep, appetite and energy and unexplainable aches or pains. Some may experience difficult thoughts about death or ending their life (suicide). Depression lasts longer than two weeks, doesn’t usually go away on its own, and impacts your life. It’s a real illness, and it is very treatable. It’s important to seek help if you’re concerned about depression.\n"
     ]
    },
    {
     "name": "stdout",
     "output_type": "stream",
     "text": [
      "You:  mental illness recover\n"
     ]
    },
    {
     "name": "stdout",
     "output_type": "stream",
     "text": [
      "Chatbot: When healing from mental illness, early identification and treatment are of vital importance. Based on the nature of the illness, there are a range of effective treatments available. For any type of treatment, it is essential that the person affected is proactive and fully engaged in their own recovery process.\n",
      "Many people with mental illnesses who are diagnosed and treated respond well, although some might experience a return of symptoms. Even in such cases, with careful monitoring and management of the disorder, it is still quite possible to live a fulfilled and productive life.\n"
     ]
    },
    {
     "name": "stdout",
     "output_type": "stream",
     "text": [
      "You:  quit\n"
     ]
    },
    {
     "name": "stdout",
     "output_type": "stream",
     "text": [
      "Chatbot: Thank you for talking with me. Take care!\n"
     ]
    }
   ],
   "source": [
    "def chatbot_conversation():\n",
    "    print(\"Hello! I'm here to help you with your mental health concerns. How can I assist you today?\\n(Type 'quit' to exit)\")\n",
    "\n",
    "    while True:\n",
    "        user_input = input(\"You: \")\n",
    "        if user_input.lower() == 'quit':\n",
    "            print(\"Chatbot: Thank you for talking with me. Take care!\")\n",
    "            break\n",
    "\n",
    "        # Analyze sentiment (placeholder)\n",
    "        sentiment = analyze_sentiment(user_input)\n",
    "\n",
    "        # Check for a matching FAQ response\n",
    "        faq_response = get_faq_response(user_input, faq_df)\n",
    "        if faq_response != \"Sorry, I don't have information on that topic.\":\n",
    "            print(\"Chatbot:\", faq_response)\n",
    "            continue\n",
    "\n",
    "        # Check for a matching intent response\n",
    "        intent_response = get_response(user_input, intents)\n",
    "        if intent_response != \"I'm not sure how to respond to that.\":\n",
    "            print(\"Chatbot:\", intent_response)\n",
    "            continue\n",
    "\n",
    "        # Fallback response\n",
    "        print(\"Chatbot: I'm still learning and I don't have an answer for that. Could you ask something else?\")\n",
    "\n",
    "chatbot_conversation()"
   ]
  },
  {
   "cell_type": "markdown",
   "id": "9d3ba8ff-a7c5-42f5-b002-a83be6eb7bd6",
   "metadata": {
    "tags": []
   },
   "source": [
    "*This is an interactive chatbot function. It initiates a conversation loop, continuously prompting for user input. Based on the input, it runs sentiment analysis, checks for relevant FAQ responses, and matches intents to provide appropriate responses. The loop can be exited by typing 'quit'.*"
   ]
  },
  {
   "cell_type": "markdown",
   "id": "1950a1a8-3d1d-4a1f-bf18-63be15118f42",
   "metadata": {
    "tags": []
   },
   "source": [
    "## Conclusion\n",
    "<a id='Conclusion'></a>\n",
    "\n",
    "The Mental Health Therapy Assistant Chatbot represents a step towards integrating AI into mental health support, offering an accessible tool for those seeking immediate assistance and guidance."
   ]
  }
 ],
 "metadata": {
  "kernelspec": {
   "display_name": "Python 3 (ipykernel)",
   "language": "python",
   "name": "python3"
  },
  "language_info": {
   "codemirror_mode": {
    "name": "ipython",
    "version": 3
   },
   "file_extension": ".py",
   "mimetype": "text/x-python",
   "name": "python",
   "nbconvert_exporter": "python",
   "pygments_lexer": "ipython3",
   "version": "3.10.9"
  }
 },
 "nbformat": 4,
 "nbformat_minor": 5
}
